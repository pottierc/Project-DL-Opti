{
  "cells": [
    {
      "cell_type": "markdown",
      "metadata": {
        "id": "4saStmswatMO"
      },
      "source": [
        "# INSTRUCTIONS (to read carefully and check!)\n",
        "\n",
        "- [x] This programming exercise is to be completed in pairs (2 students). Not less, not more.\n",
        "\n",
        "- [x] Fill in the name of each student in the cell below.  \n",
        "**If you do not include both names, your submission will not be graded.**\n",
        "\n",
        "- [ ] You must submit a single file per group on Moodle (this Jupyter notebook completed with your answers). Only one submission per group.  \n",
        "**If you send more than one file, your submission will not be graded.**\n",
        "\n",
        "- [ ] Your submission file must be named `APM52445_lastname1_lastname2.ipynb` (e.g., Aymeric Dieuleveut and Adrien Taylor will submit the file `APM52445_dieuleveut_taylor.ipynb`).  \n",
        "**If you do not properly name your file, your submission will not be graded.**\n",
        "\n",
        "- [ ] You Jupyter notebook must run on the free version of Google Collab using a T4 runtime environment. In this conditions, each cell should not take more than 4 minutes to run.  \n",
        "**If your code does not run or any cell takes longer than 4 minutes to complete, your submission will not be graded.**"
      ]
    },
    {
      "cell_type": "code",
      "execution_count": 1,
      "metadata": {
        "id": "_qwU82ZTatMU"
      },
      "outputs": [],
      "source": [
        "student1 = \"Victor Soto\"\n",
        "student2 = \"Clément Pottier\""
      ]
    },
    {
      "cell_type": "markdown",
      "metadata": {
        "id": "uvpuKDA-atMV"
      },
      "source": [
        "# Robust learning on the CIFAR-10 dataset\n",
        "\n",
        "The [CIFAR-10 dataset](https://www.cs.toronto.edu/~kriz/cifar.html) provides 60000 32x32-pixel images, classified into 10 categories.\n",
        "\n",
        "Your goals in this lab will be to:\n",
        "1. Adapt and fine-tune a pretrained model to work on CIFAR-10\n",
        "2. Evaluate the nominal and adversarial robustness of the fine-tuned model\n",
        "3. Train a robust model on CIFAR-10\n",
        "4. Evaluate the nominal and adversarial robustness of the robust model\n",
        "\n",
        "It is recommended to use a GPU to run this notebook. This will drastically speed up computations."
      ]
    },
    {
      "cell_type": "code",
      "execution_count": 2,
      "metadata": {
        "colab": {
          "base_uri": "https://localhost:8080/"
        },
        "id": "401TnnoOMrgo",
        "outputId": "feabd57d-f0aa-4b62-a78a-bbc13d740853"
      },
      "outputs": [
        {
          "output_type": "stream",
          "name": "stdout",
          "text": [
            "Using GPU: Tesla T4\n"
          ]
        }
      ],
      "source": [
        "import multiprocessing\n",
        "import torch.nn as nn\n",
        "import numpy as np\n",
        "import matplotlib.pyplot as plt\n",
        "import torch\n",
        "from torchvision import datasets, transforms, models\n",
        "\n",
        "# If you have a GPU installed and configured correctly, this code will allow the use of gpu\n",
        "device = torch.device(\"cuda:0\" if torch.cuda.is_available() else \"cpu\")\n",
        "\n",
        "if torch.cuda.is_available():\n",
        "    print(f\"Using GPU: {torch.cuda.get_device_name(0)}\")\n",
        "    batch_size = 128\n",
        "    pin_memory = True\n",
        "else:\n",
        "    print(\"No GPU found, running on CPU.\")\n",
        "    batch_size = 32\n",
        "    pin_memory = False"
      ]
    },
    {
      "cell_type": "markdown",
      "metadata": {
        "id": "zZDE8A0tatMX"
      },
      "source": [
        "### Loading CIFAR-10 dataset from torchvision"
      ]
    },
    {
      "cell_type": "code",
      "execution_count": 3,
      "metadata": {
        "colab": {
          "base_uri": "https://localhost:8080/"
        },
        "id": "J9DQs7q-Mrgz",
        "outputId": "6d824921-9a0d-47aa-b0b0-2cf7ceee021e"
      },
      "outputs": [
        {
          "output_type": "stream",
          "name": "stdout",
          "text": [
            "Downloading https://www.cs.toronto.edu/~kriz/cifar-10-python.tar.gz to ./data/cifar-10-python.tar.gz\n"
          ]
        },
        {
          "output_type": "stream",
          "name": "stderr",
          "text": [
            "100%|██████████| 170M/170M [00:03<00:00, 48.6MB/s]\n"
          ]
        },
        {
          "output_type": "stream",
          "name": "stdout",
          "text": [
            "Extracting ./data/cifar-10-python.tar.gz to ./data\n",
            "Files already downloaded and verified\n"
          ]
        }
      ],
      "source": [
        "# Mean, standard deviation, and labels\n",
        "CIFAR10_MEAN = (0.4914, 0.4822, 0.4465)\n",
        "CIFAR10_STD = (0.2023, 0.1994, 0.2010)\n",
        "CIFAR10_LABELS = [\n",
        "    \"airplane\",\n",
        "    \"automobile\",\n",
        "    \"bird\",\n",
        "    \"cat\",\n",
        "    \"deer\",\n",
        "    \"dog\",\n",
        "    \"frog\",\n",
        "    \"horse\",\n",
        "    \"ship\",\n",
        "    \"truck\",\n",
        "]\n",
        "\n",
        "# Define transforms for the training and testing datasets\n",
        "transform = transforms.Compose(\n",
        "    [\n",
        "        transforms.ToTensor(),\n",
        "        transforms.Normalize(CIFAR10_MEAN, CIFAR10_STD),\n",
        "    ]\n",
        ")\n",
        "\n",
        "# Load CIFAR-10 dataset\n",
        "train_dataset = datasets.CIFAR10(root=\"./data\", train=True, download=True, transform=transform)\n",
        "test_dataset = datasets.CIFAR10(root=\"./data\", train=False, download=True, transform=transform)\n",
        "\n",
        "# Create data loaders\n",
        "train_loader = torch.utils.data.DataLoader(\n",
        "    train_dataset,\n",
        "    batch_size=batch_size,\n",
        "    shuffle=True,\n",
        "    num_workers=multiprocessing.cpu_count(),\n",
        "    pin_memory=pin_memory,\n",
        ")\n",
        "test_loader = torch.utils.data.DataLoader(\n",
        "    test_dataset,\n",
        "    batch_size=batch_size,\n",
        "    shuffle=False,\n",
        "    num_workers=multiprocessing.cpu_count(),\n",
        "    pin_memory=pin_memory,\n",
        ")"
      ]
    },
    {
      "cell_type": "markdown",
      "metadata": {
        "id": "qGCAe_JnatMY"
      },
      "source": [
        "## Looking at a pretrained ResNet-18\n",
        "\n",
        "`torchvision` provides a series of models and weights that have been (pre)trained on ImageNet1K, a subset of the ImageNet dataset. These pretrained models can be obtained by using the `weights` parameters as in:"
      ]
    },
    {
      "cell_type": "code",
      "execution_count": 4,
      "metadata": {
        "id": "56Bp_pr7atMZ",
        "outputId": "53b4681f-1088-4778-8cb3-58d96d149572",
        "colab": {
          "base_uri": "https://localhost:8080/"
        }
      },
      "outputs": [
        {
          "output_type": "stream",
          "name": "stderr",
          "text": [
            "Downloading: \"https://download.pytorch.org/models/resnet18-f37072fd.pth\" to /root/.cache/torch/hub/checkpoints/resnet18-f37072fd.pth\n",
            "100%|██████████| 44.7M/44.7M [00:00<00:00, 163MB/s]\n"
          ]
        }
      ],
      "source": [
        "model = models.resnet18(weights=\"DEFAULT\")"
      ]
    },
    {
      "cell_type": "markdown",
      "metadata": {
        "id": "_SX6gsGZatMZ"
      },
      "source": [
        "**Q. How many outputs does `model` have?**  \n",
        "*(you must read out the answer directly from `model` rather writing an explicit number)*"
      ]
    },
    {
      "cell_type": "code",
      "execution_count": 5,
      "metadata": {
        "colab": {
          "base_uri": "https://localhost:8080/"
        },
        "id": "XCsL8FC1atMa",
        "outputId": "d788a8f5-8050-4a9c-d6c5-e8b22750b8dc"
      },
      "outputs": [
        {
          "output_type": "stream",
          "name": "stdout",
          "text": [
            "ResNet(\n",
            "  (conv1): Conv2d(3, 64, kernel_size=(7, 7), stride=(2, 2), padding=(3, 3), bias=False)\n",
            "  (bn1): BatchNorm2d(64, eps=1e-05, momentum=0.1, affine=True, track_running_stats=True)\n",
            "  (relu): ReLU(inplace=True)\n",
            "  (maxpool): MaxPool2d(kernel_size=3, stride=2, padding=1, dilation=1, ceil_mode=False)\n",
            "  (layer1): Sequential(\n",
            "    (0): BasicBlock(\n",
            "      (conv1): Conv2d(64, 64, kernel_size=(3, 3), stride=(1, 1), padding=(1, 1), bias=False)\n",
            "      (bn1): BatchNorm2d(64, eps=1e-05, momentum=0.1, affine=True, track_running_stats=True)\n",
            "      (relu): ReLU(inplace=True)\n",
            "      (conv2): Conv2d(64, 64, kernel_size=(3, 3), stride=(1, 1), padding=(1, 1), bias=False)\n",
            "      (bn2): BatchNorm2d(64, eps=1e-05, momentum=0.1, affine=True, track_running_stats=True)\n",
            "    )\n",
            "    (1): BasicBlock(\n",
            "      (conv1): Conv2d(64, 64, kernel_size=(3, 3), stride=(1, 1), padding=(1, 1), bias=False)\n",
            "      (bn1): BatchNorm2d(64, eps=1e-05, momentum=0.1, affine=True, track_running_stats=True)\n",
            "      (relu): ReLU(inplace=True)\n",
            "      (conv2): Conv2d(64, 64, kernel_size=(3, 3), stride=(1, 1), padding=(1, 1), bias=False)\n",
            "      (bn2): BatchNorm2d(64, eps=1e-05, momentum=0.1, affine=True, track_running_stats=True)\n",
            "    )\n",
            "  )\n",
            "  (layer2): Sequential(\n",
            "    (0): BasicBlock(\n",
            "      (conv1): Conv2d(64, 128, kernel_size=(3, 3), stride=(2, 2), padding=(1, 1), bias=False)\n",
            "      (bn1): BatchNorm2d(128, eps=1e-05, momentum=0.1, affine=True, track_running_stats=True)\n",
            "      (relu): ReLU(inplace=True)\n",
            "      (conv2): Conv2d(128, 128, kernel_size=(3, 3), stride=(1, 1), padding=(1, 1), bias=False)\n",
            "      (bn2): BatchNorm2d(128, eps=1e-05, momentum=0.1, affine=True, track_running_stats=True)\n",
            "      (downsample): Sequential(\n",
            "        (0): Conv2d(64, 128, kernel_size=(1, 1), stride=(2, 2), bias=False)\n",
            "        (1): BatchNorm2d(128, eps=1e-05, momentum=0.1, affine=True, track_running_stats=True)\n",
            "      )\n",
            "    )\n",
            "    (1): BasicBlock(\n",
            "      (conv1): Conv2d(128, 128, kernel_size=(3, 3), stride=(1, 1), padding=(1, 1), bias=False)\n",
            "      (bn1): BatchNorm2d(128, eps=1e-05, momentum=0.1, affine=True, track_running_stats=True)\n",
            "      (relu): ReLU(inplace=True)\n",
            "      (conv2): Conv2d(128, 128, kernel_size=(3, 3), stride=(1, 1), padding=(1, 1), bias=False)\n",
            "      (bn2): BatchNorm2d(128, eps=1e-05, momentum=0.1, affine=True, track_running_stats=True)\n",
            "    )\n",
            "  )\n",
            "  (layer3): Sequential(\n",
            "    (0): BasicBlock(\n",
            "      (conv1): Conv2d(128, 256, kernel_size=(3, 3), stride=(2, 2), padding=(1, 1), bias=False)\n",
            "      (bn1): BatchNorm2d(256, eps=1e-05, momentum=0.1, affine=True, track_running_stats=True)\n",
            "      (relu): ReLU(inplace=True)\n",
            "      (conv2): Conv2d(256, 256, kernel_size=(3, 3), stride=(1, 1), padding=(1, 1), bias=False)\n",
            "      (bn2): BatchNorm2d(256, eps=1e-05, momentum=0.1, affine=True, track_running_stats=True)\n",
            "      (downsample): Sequential(\n",
            "        (0): Conv2d(128, 256, kernel_size=(1, 1), stride=(2, 2), bias=False)\n",
            "        (1): BatchNorm2d(256, eps=1e-05, momentum=0.1, affine=True, track_running_stats=True)\n",
            "      )\n",
            "    )\n",
            "    (1): BasicBlock(\n",
            "      (conv1): Conv2d(256, 256, kernel_size=(3, 3), stride=(1, 1), padding=(1, 1), bias=False)\n",
            "      (bn1): BatchNorm2d(256, eps=1e-05, momentum=0.1, affine=True, track_running_stats=True)\n",
            "      (relu): ReLU(inplace=True)\n",
            "      (conv2): Conv2d(256, 256, kernel_size=(3, 3), stride=(1, 1), padding=(1, 1), bias=False)\n",
            "      (bn2): BatchNorm2d(256, eps=1e-05, momentum=0.1, affine=True, track_running_stats=True)\n",
            "    )\n",
            "  )\n",
            "  (layer4): Sequential(\n",
            "    (0): BasicBlock(\n",
            "      (conv1): Conv2d(256, 512, kernel_size=(3, 3), stride=(2, 2), padding=(1, 1), bias=False)\n",
            "      (bn1): BatchNorm2d(512, eps=1e-05, momentum=0.1, affine=True, track_running_stats=True)\n",
            "      (relu): ReLU(inplace=True)\n",
            "      (conv2): Conv2d(512, 512, kernel_size=(3, 3), stride=(1, 1), padding=(1, 1), bias=False)\n",
            "      (bn2): BatchNorm2d(512, eps=1e-05, momentum=0.1, affine=True, track_running_stats=True)\n",
            "      (downsample): Sequential(\n",
            "        (0): Conv2d(256, 512, kernel_size=(1, 1), stride=(2, 2), bias=False)\n",
            "        (1): BatchNorm2d(512, eps=1e-05, momentum=0.1, affine=True, track_running_stats=True)\n",
            "      )\n",
            "    )\n",
            "    (1): BasicBlock(\n",
            "      (conv1): Conv2d(512, 512, kernel_size=(3, 3), stride=(1, 1), padding=(1, 1), bias=False)\n",
            "      (bn1): BatchNorm2d(512, eps=1e-05, momentum=0.1, affine=True, track_running_stats=True)\n",
            "      (relu): ReLU(inplace=True)\n",
            "      (conv2): Conv2d(512, 512, kernel_size=(3, 3), stride=(1, 1), padding=(1, 1), bias=False)\n",
            "      (bn2): BatchNorm2d(512, eps=1e-05, momentum=0.1, affine=True, track_running_stats=True)\n",
            "    )\n",
            "  )\n",
            "  (avgpool): AdaptiveAvgPool2d(output_size=(1, 1))\n",
            "  (fc): Linear(in_features=512, out_features=1000, bias=True)\n",
            ")\n"
          ]
        }
      ],
      "source": [
        "print(model)"
      ]
    },
    {
      "cell_type": "code",
      "execution_count": 6,
      "metadata": {
        "colab": {
          "base_uri": "https://localhost:8080/"
        },
        "id": "ZjRoEZ3matMb",
        "outputId": "bd97a24f-9758-4f3a-dec6-ed266013cefe"
      },
      "outputs": [
        {
          "output_type": "stream",
          "name": "stdout",
          "text": [
            "The model has 1000 features\n"
          ]
        }
      ],
      "source": [
        "model_outputs = model.fc.out_features\n",
        "print(f\"The model has {model_outputs} features\")"
      ]
    },
    {
      "cell_type": "markdown",
      "metadata": {
        "id": "6j99QPUIatMb"
      },
      "source": [
        "**Q. That's too many for CIFAR-10! Change the last layer to fit the CIFAR-10 dataset.**"
      ]
    },
    {
      "cell_type": "code",
      "execution_count": 7,
      "metadata": {
        "colab": {
          "base_uri": "https://localhost:8080/"
        },
        "id": "853k1IZmatMb",
        "outputId": "2cf99588-9072-4a92-c111-c6c5c1531824"
      },
      "outputs": [
        {
          "output_type": "stream",
          "name": "stdout",
          "text": [
            "ResNet(\n",
            "  (conv1): Conv2d(3, 64, kernel_size=(7, 7), stride=(2, 2), padding=(3, 3), bias=False)\n",
            "  (bn1): BatchNorm2d(64, eps=1e-05, momentum=0.1, affine=True, track_running_stats=True)\n",
            "  (relu): ReLU(inplace=True)\n",
            "  (maxpool): MaxPool2d(kernel_size=3, stride=2, padding=1, dilation=1, ceil_mode=False)\n",
            "  (layer1): Sequential(\n",
            "    (0): BasicBlock(\n",
            "      (conv1): Conv2d(64, 64, kernel_size=(3, 3), stride=(1, 1), padding=(1, 1), bias=False)\n",
            "      (bn1): BatchNorm2d(64, eps=1e-05, momentum=0.1, affine=True, track_running_stats=True)\n",
            "      (relu): ReLU(inplace=True)\n",
            "      (conv2): Conv2d(64, 64, kernel_size=(3, 3), stride=(1, 1), padding=(1, 1), bias=False)\n",
            "      (bn2): BatchNorm2d(64, eps=1e-05, momentum=0.1, affine=True, track_running_stats=True)\n",
            "    )\n",
            "    (1): BasicBlock(\n",
            "      (conv1): Conv2d(64, 64, kernel_size=(3, 3), stride=(1, 1), padding=(1, 1), bias=False)\n",
            "      (bn1): BatchNorm2d(64, eps=1e-05, momentum=0.1, affine=True, track_running_stats=True)\n",
            "      (relu): ReLU(inplace=True)\n",
            "      (conv2): Conv2d(64, 64, kernel_size=(3, 3), stride=(1, 1), padding=(1, 1), bias=False)\n",
            "      (bn2): BatchNorm2d(64, eps=1e-05, momentum=0.1, affine=True, track_running_stats=True)\n",
            "    )\n",
            "  )\n",
            "  (layer2): Sequential(\n",
            "    (0): BasicBlock(\n",
            "      (conv1): Conv2d(64, 128, kernel_size=(3, 3), stride=(2, 2), padding=(1, 1), bias=False)\n",
            "      (bn1): BatchNorm2d(128, eps=1e-05, momentum=0.1, affine=True, track_running_stats=True)\n",
            "      (relu): ReLU(inplace=True)\n",
            "      (conv2): Conv2d(128, 128, kernel_size=(3, 3), stride=(1, 1), padding=(1, 1), bias=False)\n",
            "      (bn2): BatchNorm2d(128, eps=1e-05, momentum=0.1, affine=True, track_running_stats=True)\n",
            "      (downsample): Sequential(\n",
            "        (0): Conv2d(64, 128, kernel_size=(1, 1), stride=(2, 2), bias=False)\n",
            "        (1): BatchNorm2d(128, eps=1e-05, momentum=0.1, affine=True, track_running_stats=True)\n",
            "      )\n",
            "    )\n",
            "    (1): BasicBlock(\n",
            "      (conv1): Conv2d(128, 128, kernel_size=(3, 3), stride=(1, 1), padding=(1, 1), bias=False)\n",
            "      (bn1): BatchNorm2d(128, eps=1e-05, momentum=0.1, affine=True, track_running_stats=True)\n",
            "      (relu): ReLU(inplace=True)\n",
            "      (conv2): Conv2d(128, 128, kernel_size=(3, 3), stride=(1, 1), padding=(1, 1), bias=False)\n",
            "      (bn2): BatchNorm2d(128, eps=1e-05, momentum=0.1, affine=True, track_running_stats=True)\n",
            "    )\n",
            "  )\n",
            "  (layer3): Sequential(\n",
            "    (0): BasicBlock(\n",
            "      (conv1): Conv2d(128, 256, kernel_size=(3, 3), stride=(2, 2), padding=(1, 1), bias=False)\n",
            "      (bn1): BatchNorm2d(256, eps=1e-05, momentum=0.1, affine=True, track_running_stats=True)\n",
            "      (relu): ReLU(inplace=True)\n",
            "      (conv2): Conv2d(256, 256, kernel_size=(3, 3), stride=(1, 1), padding=(1, 1), bias=False)\n",
            "      (bn2): BatchNorm2d(256, eps=1e-05, momentum=0.1, affine=True, track_running_stats=True)\n",
            "      (downsample): Sequential(\n",
            "        (0): Conv2d(128, 256, kernel_size=(1, 1), stride=(2, 2), bias=False)\n",
            "        (1): BatchNorm2d(256, eps=1e-05, momentum=0.1, affine=True, track_running_stats=True)\n",
            "      )\n",
            "    )\n",
            "    (1): BasicBlock(\n",
            "      (conv1): Conv2d(256, 256, kernel_size=(3, 3), stride=(1, 1), padding=(1, 1), bias=False)\n",
            "      (bn1): BatchNorm2d(256, eps=1e-05, momentum=0.1, affine=True, track_running_stats=True)\n",
            "      (relu): ReLU(inplace=True)\n",
            "      (conv2): Conv2d(256, 256, kernel_size=(3, 3), stride=(1, 1), padding=(1, 1), bias=False)\n",
            "      (bn2): BatchNorm2d(256, eps=1e-05, momentum=0.1, affine=True, track_running_stats=True)\n",
            "    )\n",
            "  )\n",
            "  (layer4): Sequential(\n",
            "    (0): BasicBlock(\n",
            "      (conv1): Conv2d(256, 512, kernel_size=(3, 3), stride=(2, 2), padding=(1, 1), bias=False)\n",
            "      (bn1): BatchNorm2d(512, eps=1e-05, momentum=0.1, affine=True, track_running_stats=True)\n",
            "      (relu): ReLU(inplace=True)\n",
            "      (conv2): Conv2d(512, 512, kernel_size=(3, 3), stride=(1, 1), padding=(1, 1), bias=False)\n",
            "      (bn2): BatchNorm2d(512, eps=1e-05, momentum=0.1, affine=True, track_running_stats=True)\n",
            "      (downsample): Sequential(\n",
            "        (0): Conv2d(256, 512, kernel_size=(1, 1), stride=(2, 2), bias=False)\n",
            "        (1): BatchNorm2d(512, eps=1e-05, momentum=0.1, affine=True, track_running_stats=True)\n",
            "      )\n",
            "    )\n",
            "    (1): BasicBlock(\n",
            "      (conv1): Conv2d(512, 512, kernel_size=(3, 3), stride=(1, 1), padding=(1, 1), bias=False)\n",
            "      (bn1): BatchNorm2d(512, eps=1e-05, momentum=0.1, affine=True, track_running_stats=True)\n",
            "      (relu): ReLU(inplace=True)\n",
            "      (conv2): Conv2d(512, 512, kernel_size=(3, 3), stride=(1, 1), padding=(1, 1), bias=False)\n",
            "      (bn2): BatchNorm2d(512, eps=1e-05, momentum=0.1, affine=True, track_running_stats=True)\n",
            "    )\n",
            "  )\n",
            "  (avgpool): AdaptiveAvgPool2d(output_size=(1, 1))\n",
            "  (fc): Linear(in_features=512, out_features=10, bias=True)\n",
            ")\n"
          ]
        }
      ],
      "source": [
        "# Modify the last fully connected layer to have 10 output features\n",
        "model.fc = nn.Linear(model.fc.in_features, 10)\n",
        "\n",
        "# Verify the change\n",
        "print(model)"
      ]
    },
    {
      "cell_type": "markdown",
      "metadata": {
        "id": "XRzHi28patMc"
      },
      "source": [
        "**Q. Complete the function `nominal_accuracy` that takes a `model` and computes its accuracy on the test set.**"
      ]
    },
    {
      "cell_type": "code",
      "execution_count": 8,
      "metadata": {
        "colab": {
          "base_uri": "https://localhost:8080/"
        },
        "id": "3XEamRqRatMc",
        "outputId": "6234fcd3-a206-4133-d5f6-113b14d93104"
      },
      "outputs": [
        {
          "output_type": "stream",
          "name": "stdout",
          "text": [
            "Test accuracy of pretrained model: 10.35%\n"
          ]
        }
      ],
      "source": [
        "def nominal_accuracy(model):\n",
        "    model.eval()\n",
        "    test_acc = 0\n",
        "    total = 0\n",
        "\n",
        "    with torch.no_grad():  # Disable gradient calculation\n",
        "        for inputs, labels in test_loader:\n",
        "            inputs, labels = inputs.to(device), labels.to(device)\n",
        "            outputs = model(inputs)\n",
        "            _, predicted = torch.max(outputs, 1)\n",
        "            total += labels.size(0)\n",
        "            test_acc += (predicted == labels).sum().item()\n",
        "\n",
        "    # Calculate accuracy as a percentage\n",
        "    test_acc = test_acc / total\n",
        "\n",
        "    return test_acc\n",
        "\n",
        "\n",
        "model = model.to(device)\n",
        "acc_pretrained = nominal_accuracy(model)\n",
        "print(f\"Test accuracy of pretrained model: {100*acc_pretrained:.2f}%\")"
      ]
    },
    {
      "cell_type": "markdown",
      "metadata": {
        "id": "BBbJC_aYatMc"
      },
      "source": [
        "**Q. Why is the accuracy so low?**  \n",
        "*(Tip: check the documentation of `torchvision.models.resnet18`)*"
      ]
    },
    {
      "cell_type": "markdown",
      "metadata": {
        "id": "LUML5cYHatMd"
      },
      "source": [
        "- Pre-trained Weights:\n",
        "    - The pre-trained resnet18 model from torchvision is trained on the ImageNet dataset, which has 1,000 classes and is significantly different from the CIFAR-10 dataset, which has only 10 classes.\n",
        "    - The features learned from ImageNet may not directly transfer well to CIFAR-10 without fine-tuning.\n",
        "- Difference in Datasets:\n",
        "    - ImageNet: Contains high-resolution images with a variety of objects and scenes.\n",
        "    - CIFAR-10: Contains low-resolution (32x32) images of objects and animals in a more constrained setting."
      ]
    },
    {
      "cell_type": "markdown",
      "metadata": {
        "id": "oXma0J5XatMd"
      },
      "source": [
        "## Fine tuning the pretrained ResNet-18"
      ]
    },
    {
      "cell_type": "markdown",
      "metadata": {
        "id": "6i42T27GatMd"
      },
      "source": [
        "**Q. Train `model` on CIFAR-10 using SGD with step size $10^{-2}$ for 3 epochs.**  \n",
        "*(this process of training for very few iterations a pretrained model is often called \"fine tuning\")*"
      ]
    },
    {
      "cell_type": "code",
      "execution_count": 9,
      "metadata": {
        "id": "9PWp3X22atM6"
      },
      "outputs": [],
      "source": [
        "epochs = 3\n",
        "model.train()\n",
        "\n",
        "\n",
        "# We define an optimizer that will update the model's parameters\n",
        "# to minimize the error:\n",
        "optimizer = torch.optim.SGD(model.parameters(), lr=0.01) # given learning rate\n",
        "\n",
        "# We define take the Cross-Entropy Loss as our function:\n",
        "criterion = nn.CrossEntropyLoss()\n",
        "\n",
        "# We iterate trough the training data for 3 epochs\n",
        "# (load a batch of images -> predicitons -> loss -> gradients -> update param):\n",
        "for epoch in range(epochs):\n",
        "    for inputs, labels in train_loader:\n",
        "        inputs, labels = inputs.to(device), labels.to(device)\n",
        "        optimizer.zero_grad()\n",
        "        outputs = model(inputs)\n",
        "        loss = criterion(outputs, labels)\n",
        "        loss.backward()\n",
        "        optimizer.step()\n"
      ]
    },
    {
      "cell_type": "code",
      "execution_count": 10,
      "metadata": {
        "colab": {
          "base_uri": "https://localhost:8080/"
        },
        "id": "mZpIgUiqatM7",
        "outputId": "44b169ae-9f9e-4e63-a40e-1e4653f5ba03"
      },
      "outputs": [
        {
          "output_type": "stream",
          "name": "stdout",
          "text": [
            "Test accuracy of fine-tuned model: 76.45%\n"
          ]
        }
      ],
      "source": [
        "acc_finetuned = nominal_accuracy(model)\n",
        "print(f\"Test accuracy of fine-tuned model: {100*acc_finetuned:.2f}%\")"
      ]
    },
    {
      "cell_type": "markdown",
      "metadata": {
        "id": "ck5ldVq1atM7"
      },
      "source": [
        "## Evaluating the robustness of the fine-tuned ResNet-18"
      ]
    },
    {
      "cell_type": "markdown",
      "metadata": {
        "id": "OSBeppTyatM7"
      },
      "source": [
        "While our fine-tuned `model` now has good accuracy on CIFAR-10, it turns out to be extremely sensitive to input perturbations. In fact, our `model` can be fooled by small perturbations of the CIFAR-10 images that are *invisible to the naked eye*. That's exactly what we're gonna show next."
      ]
    },
    {
      "cell_type": "markdown",
      "metadata": {
        "id": "3_XESB51atM8"
      },
      "source": [
        "To do that, the idea is to essentially turn everything we've done so far on its head. Up until now, we have fixed the inputs (the data points $x_n$) and tried to **find the parameters $\\theta$ that minimize the loss**, i.e.,\n",
        "$$\n",
        "\\text{(PI):} \\quad \\min_{\\theta}\\ \\frac{1}{N} \\sum_{n=1}^N \\text{Loss}(f_\\theta(x_n),y_n)\n",
        "    \\text{,}\n",
        "$$\n",
        "where $f_\\theta$ is our model. We did that by using, for instance, stochastic gradient descent as in\n",
        "$$\n",
        "\\theta_{t+1} = \\theta_{t} - \\eta \\nabla_{\\theta} \\text{Loss}(f_\\theta(x_n),y_n)\n",
        "    \\text{,} \\quad n \\sim \\text{Uniform}([1,N])\n",
        "    \\text{.}\n",
        "$$\n",
        "\n",
        "Instead, we are now going to fix the parameters $\\theta$ and some input $(x^\\prime,y^\\prime)$ and **find an input $x$ close to $x^\\prime$ that maximizes the loss**, i.e.,\n",
        "$$\n",
        "\\text{(PII):} \\quad \\max_{\\Vert x - x^\\prime \\Vert_{\\infty} \\leq \\epsilon}\\ \\text{Loss}(f_\\theta(x),y^\\prime)\n",
        "    \\text{.}\n",
        "$$\n",
        "By maximizing the loss with respect to the correct class $y^\\prime$, we are finding an image $x$ that our model does not classify as $y^\\prime$. But if that image is so close to $x^\\prime$ that we (humans) cannot tell them apart, then clearly our model has made a mistake. To achieve that, (PII) only optimizes over inputs $x$ such that $\\Vert x - x^\\prime \\Vert_{\\infty} \\leq \\epsilon$. Recall that $\\Vert z \\Vert_\\infty = \\max_i \\vert z_i \\vert$. In words, this means that the value of each pixel of $x$ cannot be more than $\\epsilon$ away from the original image $x^\\prime$. So $\\epsilon$ is the \"strength of our attack.\"\n",
        "\n",
        "Typically, we only care about very small $\\epsilon$ (say 3% of the maximum pixel value). Why? Because otherwise (PII) would just replace every image in CIFAR-10 by a picture of one of your instructors, which would completely confuse our model since none of us are part of CIFAR-10! (what would our labels even be?! Don't answer that...). No, we want $x$ and $x^\\prime$ to look almost the same to us (humans) so that our model is actually making a mistake by not assigning the class $y^\\prime$ to $x$."
      ]
    },
    {
      "cell_type": "markdown",
      "metadata": {
        "id": "FbKqawtcatM8"
      },
      "source": [
        "### Algorithm development"
      ]
    },
    {
      "cell_type": "markdown",
      "metadata": {
        "id": "-_J-mjZGatM8"
      },
      "source": [
        "You will now develop an algorithm to solve (PII). To do so, observe 4 important differences between (PI) and (PII):\n",
        "\n",
        "1. (PII) optimizes over $x$ and not $\\theta$, i.e., we need to use the gradient with respect to the input $\\nabla_x \\text{Loss}(f_\\theta(x),y^\\prime)$ and **not** the gradient with respect to the parameters $\\nabla_{\\theta} \\text{Loss}(f_\\theta(x),y^\\prime)$;"
      ]
    },
    {
      "cell_type": "markdown",
      "metadata": {
        "id": "PZzjLDDqatM8"
      },
      "source": [
        "**Q. Complete the function `grad_input` which computes the gradient of the loss with respect to the input (and not the parameters!).**  \n",
        "*Tip: PyTorch will only compute gradients for any `torch.tensor` that has `requires_grad=True`.*  \n",
        "*Tip: Check the shape of your output: it has to match `inputs.shape`.*"
      ]
    },
    {
      "cell_type": "code",
      "execution_count": 12,
      "metadata": {
        "id": "FEHEFu-latM8",
        "outputId": "b1d62387-1b1f-4557-94b6-2ad8343b24e6",
        "colab": {
          "base_uri": "https://localhost:8080/"
        }
      },
      "outputs": [
        {
          "output_type": "stream",
          "name": "stdout",
          "text": [
            "The maximum absolute value of the gradient is 0.014.\n"
          ]
        }
      ],
      "source": [
        "def grad_input(model, inputs, targets, criterion):\n",
        "\n",
        "    # Ensure inputs require gradients\n",
        "    inputs.requires_grad = True\n",
        "\n",
        "    # Forward pass\n",
        "    outputs = model(inputs)\n",
        "\n",
        "    # Compute the loss\n",
        "    loss = criterion(outputs, targets)\n",
        "\n",
        "    # Compute the gradient of the loss with respect to the inputs\n",
        "    grad_wrt_inputs = torch.autograd.grad(loss, inputs, retain_graph=True, create_graph=True)[0]\n",
        "\n",
        "    # Check that the shape of the output is the same as the input\n",
        "    assert grad_wrt_inputs.shape == inputs.shape, f\"Expected shape {inputs.shape}, but got {grad_wrt_inputs.shape}\"\n",
        "\n",
        "    return grad_wrt_inputs\n",
        "\n",
        "\n",
        "max_grad = 0.0\n",
        "for inputs, targets in train_loader:\n",
        "    inputs, targets = inputs.to(device), targets.to(device)\n",
        "    grad = grad_input(model, inputs, targets, torch.nn.CrossEntropyLoss())\n",
        "    max_grad = max(max_grad, grad.abs().max().item())\n",
        "\n",
        "print(f\"The maximum absolute value of the gradient is {max_grad:.3f}.\")"
      ]
    },
    {
      "cell_type": "markdown",
      "metadata": {
        "id": "x9ua-QjKatM9"
      },
      "source": [
        "2. (PII) typically uses a pretrained network, so $\\nabla_x \\text{Loss}(f_\\theta(x),y^\\prime)$ is very small (see above). To overcome that, we use the *sign of the gradient* in the update and **not** than the gradient itself;\n",
        "3. (PII) *maximizes* rather than *minimizes* the loss, i.e., we need to do gradient *ascent* and **not** gradient *descent*;\n",
        "4. (PII) only considers inputs $x$ close to the reference $x^\\prime$. In fact, the value of the each pixel of $x$ cannot be more than $\\epsilon$ away from the value of the same pixel in $x^\\prime$. To ensure that our updates stay within $\\epsilon$ of $x^\\prime$, we use a *projection* after each update. In this case, the projection reduces to clipping as in\n",
        "    $$\n",
        "    \\text{Projection}(x) = x^\\prime + \\big[ x - x^\\prime \\big]_{-\\epsilon}^{\\epsilon}\n",
        "    \\text{,}\n",
        "    $$\n",
        "    where $\\big[ z \\big]_{-\\epsilon}^{\\epsilon}$ \"clips\" (or \"clamps\") $z$ to $[-\\epsilon,\\epsilon]$.\n",
        "    In math, we write that as $\\big[ z \\big]_{-\\epsilon}^{\\epsilon} = \\min(\\max(z,-\\epsilon),\\epsilon)$."
      ]
    },
    {
      "cell_type": "markdown",
      "metadata": {
        "id": "A459Hy5latM9"
      },
      "source": [
        "**Q. Use these four observations to modify the GD algorithm to solve (PII).**"
      ]
    },
    {
      "cell_type": "markdown",
      "source": [
        "Je capte pas s'ils attendent une explication ou si faut coder quelque chose"
      ],
      "metadata": {
        "id": "HQymSM3k5Wuy"
      }
    },
    {
      "cell_type": "markdown",
      "source": [
        "\n",
        "#\n",
        "#\n",
        "# YOUR CODE OR ANSWER HERE\n",
        "#\n",
        "#"
      ],
      "metadata": {
        "id": "wxNsdTaG5M4_"
      }
    },
    {
      "cell_type": "markdown",
      "metadata": {
        "id": "RYTdN2EeatM-"
      },
      "source": [
        "**Q. Complete the function `grad_attack` that uses this algorithm to find modifications of `input` ($x^\\prime$) that maximize the loss (`criterion`) of `model` ($f_\\theta$).**  \n",
        "1. initialize $x_0$ randomly in $\\Vert x - x^\\prime \\Vert_{\\infty} \\leq \\epsilon$\n",
        "1. compute the gradient of the loss (cross-entropy) with respect to the input at $x_k$\n",
        "1. update $x_k$ using the signed gradient ascent with step size `eta`\n",
        "1. project the result to get $x_{k+1}$\n",
        "1. repeat for `iterations`"
      ]
    },
    {
      "cell_type": "code",
      "execution_count": 46,
      "metadata": {
        "id": "53id26_uN_7f"
      },
      "outputs": [],
      "source": [
        "def grad_attack(model, inputs, targets, epsilon, eta, iterations):\n",
        "    model.eval()\n",
        "\n",
        "    inputs = inputs.clone().detach()  # Ensure inputs do not have history\n",
        "    mod_inputs = inputs + torch.empty_like(inputs).uniform_(-epsilon, epsilon)\n",
        "    mod_inputs.requires_grad = True  # Enable gradient tracking\n",
        "\n",
        "    for _ in range(iterations):\n",
        "        # Forward pass\n",
        "        outputs = model(mod_inputs)\n",
        "        loss = torch.nn.CrossEntropyLoss()(outputs, targets)\n",
        "\n",
        "        # Compute the gradient of the loss with respect to the input\n",
        "        grad = torch.autograd.grad(loss, mod_inputs, retain_graph=False, create_graph=False)[0]\n",
        "\n",
        "        # Update mod_inputs using the signed gradient ascent\n",
        "        mod_inputs = mod_inputs + eta * torch.sign(grad)\n",
        "\n",
        "        # Project mod_inputs back into the epsilon-ball of inputs\n",
        "        mod_inputs = inputs + torch.clamp(mod_inputs - inputs, -epsilon, epsilon)\n",
        "\n",
        "        # Ensure mod_inputs stays in the computation graph\n",
        "        mod_inputs = mod_inputs.detach().clone().requires_grad_(True)\n",
        "\n",
        "    return mod_inputs"
      ]
    },
    {
      "cell_type": "markdown",
      "metadata": {
        "id": "mEl8-JMGatM-"
      },
      "source": [
        "**Q. Complete the function `robustness` that takes a `model` and computes its accuracy after modifying the input with `grad_attack`.**  \n",
        "*Since we modify normalized inputs, we need to consider values of `epsilon`, the magnitude of our modifications, that are proportional to the range of the normalized CIFAR-10 images.*  \n",
        "*Set `epsilon` to 3% of that range  ($0.03 \\times 2.5$), `eta` = `epsilon`/20, and `iterations`=50).*"
      ]
    },
    {
      "cell_type": "code",
      "execution_count": 47,
      "metadata": {
        "id": "zfyruAk5atM_",
        "outputId": "5c78bce9-8b8f-4bc4-e0b4-5ccd68af06f9",
        "colab": {
          "base_uri": "https://localhost:8080/"
        }
      },
      "outputs": [
        {
          "output_type": "stream",
          "name": "stdout",
          "text": [
            "Robustness of pretrained model: 0.910%\n"
          ]
        }
      ],
      "source": [
        "def robustness(model):\n",
        "    model.eval()\n",
        "    robust_acc = 0\n",
        "\n",
        "    total = 0\n",
        "\n",
        "    epsilon = 0.03 * 2.5  # 3% of the normalized range\n",
        "    eta = epsilon / 20\n",
        "    iterations = 50\n",
        "\n",
        "    for inputs, targets in train_loader:\n",
        "        inputs, targets = inputs.to(device), targets.to(device)\n",
        "\n",
        "        # Apply the adversarial attack (DO NOT use torch.no_grad() here)\n",
        "        mod_inputs = grad_attack(model, inputs, targets, epsilon, eta, iterations)\n",
        "\n",
        "        with torch.no_grad():  # Now safe to disable gradients for evaluation\n",
        "            # Get the model's predictions on the modified inputs\n",
        "            outputs = model(mod_inputs)\n",
        "            _, predicted = torch.max(outputs, 1)\n",
        "\n",
        "            # Calculate the accuracy\n",
        "            robust_acc += (predicted == targets).sum().item()\n",
        "            total += targets.size(0)\n",
        "\n",
        "    # Compute the overall robust accuracy\n",
        "    robust_acc /= total\n",
        "\n",
        "    return robust_acc\n",
        "\n",
        "robust_acc_finetuned = robustness(model)\n",
        "print(f\"Robustness of pretrained model: {100*robust_acc_finetuned:.3f}%\")"
      ]
    },
    {
      "cell_type": "markdown",
      "metadata": {
        "id": "VCWQTTr_atM_"
      },
      "source": [
        "**Q. What happened to the accuracy of our ResNet-18? How come it went from over 70% to worst than a random classifier?**"
      ]
    },
    {
      "cell_type": "markdown",
      "metadata": {
        "id": "zPEWJ6JLatM_"
      },
      "source": [
        "The significant drop in accuracy of your ResNet-18 model, from over 70% to worse than a random classifier, after applying adversarial attacks, can be attributed to the model's vulnerability to adversarial examples.\n",
        "\n",
        "- We have created adversarial examples from inputs that have been slightly modified to cause the model to make mistakes. The modifications are typically imperceptible to humans but can lead to significant errors in the model's predictions.\n",
        "- However, Deep learning models can be highly sensitive to small perturbations in the input data, explaining this drastic drop in the result.\n",
        "- Moreover, we maximized the loss with The grad_attack function using gradient ascent to find small perturbations that maximize the loss.\n",
        "\n",
        "To conclude, we can explain this result answering that everything was made to find the worst-case scenario for the model, leading to incorrect predictions and a very slow accuracy"
      ]
    },
    {
      "cell_type": "code",
      "execution_count": 51,
      "metadata": {
        "id": "6TEcp6pib9Db",
        "outputId": "fcab44e4-be76-4803-bc93-97db05b65027",
        "colab": {
          "base_uri": "https://localhost:8080/",
          "height": 542
        }
      },
      "outputs": [
        {
          "output_type": "display_data",
          "data": {
            "text/plain": [
              "<Figure size 1700x600 with 21 Axes>"
            ],
            "image/png": "[encoded data removed]"
          },
          "metadata": {}
        }
      ],
      "source": [
        "def unnormalize(x):\n",
        "    std = torch.tensor([[0.2023, 0.1994, 0.2010]]).reshape((3, 1, 1))\n",
        "    mean = torch.tensor([[0.4914, 0.4822, 0.4465]]).reshape(3, 1, 1)\n",
        "    return torch.clamp(x * std + mean, 0, 1)\n",
        "\n",
        "fig, axes = plt.subplots(3, 7, figsize=(17, 6))\n",
        "\n",
        "for n, idx in enumerate(np.random.randint(0, len(test_dataset), 7)):\n",
        "    input, target = test_dataset[idx]\n",
        "    input, target = input.to(device), torch.tensor([target], device=device)\n",
        "\n",
        "    mod_input = grad_attack(\n",
        "        model, input.unsqueeze(0), target, epsilon=0.03 * 2.5, eta=0.03 * 2.5 / 20, iterations=50\n",
        "    )\n",
        "\n",
        "    _, pred = model(input.unsqueeze(0)).max(1)\n",
        "    _, mod_pred = model(mod_input).max(1)\n",
        "\n",
        "    # Detach tensors before visualization\n",
        "    input_img = unnormalize(input.to(\"cpu\")).movedim(0, 2).detach().numpy()\n",
        "    axes[0, n].imshow(input_img)\n",
        "    _ = axes[0, n].set_title(f\"Predicted: {CIFAR10_LABELS[pred.item()]}\\n(True: {CIFAR10_LABELS[target.item()]})\")\n",
        "\n",
        "    mod_input_img = unnormalize(mod_input.to(\"cpu\").squeeze()).movedim(0, 2).detach().numpy()\n",
        "    axes[1, n].imshow(mod_input_img)\n",
        "    _ = axes[1, n].set_title(f\"Predicted: {CIFAR10_LABELS[mod_pred.item()]}\")\n",
        "\n",
        "    # Compute the absolute difference using np.abs\n",
        "    difference = np.abs(input_img - mod_input_img)\n",
        "    axes[2, n].imshow(difference / difference.max())\n",
        "\n",
        "for ax in axes.flatten():\n",
        "    ax.axis(\"off\")\n",
        "\n",
        "axes[0, 0].set_axis_on()\n",
        "axes[0, 0].xaxis.set_visible(False)\n",
        "axes[0, 0].tick_params(left=False, labelleft=False)\n",
        "_ = axes[0, 0].set_ylabel(\"Original images\")\n",
        "\n",
        "axes[1, 0].set_axis_on()\n",
        "axes[1, 0].xaxis.set_visible(False)\n",
        "axes[1, 0].tick_params(left=False, labelleft=False)\n",
        "_ = axes[1, 0].set_ylabel(\"Perturbed images\")\n",
        "\n",
        "axes[2, 0].set_axis_on()\n",
        "axes[2, 0].xaxis.set_visible(False)\n",
        "axes[2, 0].tick_params(left=False, labelleft=False)\n",
        "_ = axes[2, 0].set_ylabel(\"Difference\")\n",
        "\n",
        "plt.show()"
      ]
    },
    {
      "cell_type": "markdown",
      "metadata": {
        "id": "ow3qGqrLatNA"
      },
      "source": [
        "**Q. Do the images look different? Do their differences look like anything? How come our model is now consistently wrong on images it used to get right?**"
      ]
    },
    {
      "cell_type": "markdown",
      "metadata": {
        "id": "RQD0FaZ5atNF"
      },
      "source": [
        "- The images really don't look different. This result is not surprising since we implemented our input modification to be very small so that not visible to human eyes.\n",
        "- Their difference is very irregular, it appears to be noise. But this noise was optimize in order to maximize the loss of the prediction. It really underlines the sensibility of Deep Learning algorithm to small perturbations in the input data."
      ]
    },
    {
      "cell_type": "markdown",
      "metadata": {
        "id": "K72Q1u9qatNG"
      },
      "source": [
        "**Q. Fine tune your (already fine tuned) CIFAR-10 model by training on modified inputs instead of clean ones. In other words, train on images after running them through `grad_attack`.**  \n",
        "*Train your model using SGD with step size $10^{-3}$ for 3 epochs.*  \n",
        "*To speed up your training, use a much weaker attack by keeping `epsilon` as before but setting `eta` = `epsilon`/3 and `iterations` = 5.*"
      ]
    },
    {
      "cell_type": "code",
      "execution_count": null,
      "metadata": {
        "id": "zDFOMj3DatNH"
      },
      "outputs": [],
      "source": [
        "epochs = 3\n",
        "\n",
        "\n",
        "#\n",
        "#\n",
        "# YOUR CODE OR ANSWER HERE\n",
        "#\n",
        "#\n"
      ]
    },
    {
      "cell_type": "code",
      "execution_count": null,
      "metadata": {
        "id": "dSWNPegNb9Dc"
      },
      "outputs": [],
      "source": [
        "acc_adv = nominal_accuracy(model)\n",
        "print(\n",
        "    f\"Test accuracy of adversarially trained model: {100*acc_adv:.2f}%\"\n",
        "    f\" (before adversarial training: {100*acc_finetuned:.2f}%)\"\n",
        ")\n",
        "\n",
        "robust_acc_adv = robustness(model)\n",
        "print(\n",
        "    f\"Robustness of adversarially trained model: {100*robust_acc_adv:.2f}%\"\n",
        "    f\" (before adversarial training: {100*robust_acc_finetuned:.2f}%)\"\n",
        ")"
      ]
    },
    {
      "cell_type": "markdown",
      "metadata": {
        "id": "oSJYSVtLatNJ"
      },
      "source": [
        "**Q. Compare the nominal accuracy (accuracy on clean samples) and robustness (accuracy on modified samples) of your model before and after adversarial training. Do you notice any patterns?**\n",
        "\n",
        "**BONUS: How would you go about dealing with it?**"
      ]
    },
    {
      "cell_type": "markdown",
      "metadata": {
        "id": "p55_yGQ2atNJ"
      },
      "source": [
        "\n",
        "#\n",
        "#\n",
        "# YOUR CODE OR ANSWER HERE\n",
        "#\n",
        "#\n"
      ]
    }
  ],
  "metadata": {
    "accelerator": "GPU",
    "anaconda-cloud": {},
    "colab": {
      "gpuType": "T4",
      "provenance": []
    },
    "kernelspec": {
      "display_name": "Python 3",
      "name": "python3"
    },
    "language_info": {
      "codemirror_mode": {
        "name": "ipython",
        "version": 3
      },
      "file_extension": ".py",
      "mimetype": "text/x-python",
      "name": "python",
      "nbconvert_exporter": "python",
      "pygments_lexer": "ipython3",
      "version": "3.12.7"
    }
  },
  "nbformat": 4,
  "nbformat_minor": 0
}